{
 "cells": [
  {
   "cell_type": "code",
   "execution_count": 27,
   "metadata": {},
   "outputs": [
    {
     "name": "stderr",
     "output_type": "stream",
     "text": [
      "WARNING:absl:Compiled the loaded model, but the compiled metrics have yet to be built. `model.compile_metrics` will be empty until you train or evaluate the model.\n"
     ]
    }
   ],
   "source": [
    "from tensorflow.keras.preprocessing import sequence\n",
    "from tensorflow.keras.preprocessing.text import one_hot\n",
    "from tensorflow.keras.models import load_model\n",
    "import numpy as np\n",
    "import pandas as pd\n",
    "import re\n",
    "import pickle\n",
    "\n",
    "model = load_model('res/SentimentRNN.h5')"
   ]
  },
  {
   "cell_type": "code",
   "execution_count": 32,
   "metadata": {},
   "outputs": [],
   "source": [
    "def preprocessComment(sents):\n",
    "  x=[]\n",
    "  with open('res/word_dict.pkl','rb') as f:\n",
    "      word_dict = pickle.load(f)\n",
    "  for s in sents:\n",
    "    result = ''.join([i for i in s if not i.isdigit()])\n",
    "    x.append(result)\n",
    "\n",
    "  x =[re.sub('[^a-zA-Z]',' ',words) for words in x]\n",
    "  voca_len =10000\n",
    "  x_ohe = [word_dict[word]if word in word_dict.keys()  else one_hot(word,30000) for word in sents]\n",
    "  sent_len = 100\n",
    "  x_pad = sequence.pad_sequences(x_ohe,maxlen=sent_len)\n",
    "  return x_pad\n",
    "\n",
    "def analysis(sents):\n",
    "  x= preprocessComment(sents)\n",
    "  pred = model.predict(x)\n",
    "  return [np.argmax(i) for i in pred]"
   ]
  },
  {
   "cell_type": "code",
   "execution_count": null,
   "metadata": {},
   "outputs": [
    {
     "data": {
      "text/html": [
       "<div>\n",
       "<style scoped>\n",
       "    .dataframe tbody tr th:only-of-type {\n",
       "        vertical-align: middle;\n",
       "    }\n",
       "\n",
       "    .dataframe tbody tr th {\n",
       "        vertical-align: top;\n",
       "    }\n",
       "\n",
       "    .dataframe thead th {\n",
       "        text-align: right;\n",
       "    }\n",
       "</style>\n",
       "<table border=\"1\" class=\"dataframe\">\n",
       "  <thead>\n",
       "    <tr style=\"text-align: right;\">\n",
       "      <th></th>\n",
       "      <th>author</th>\n",
       "      <th>published_at</th>\n",
       "      <th>updated_at</th>\n",
       "      <th>like_count</th>\n",
       "      <th>text</th>\n",
       "    </tr>\n",
       "  </thead>\n",
       "  <tbody>\n",
       "    <tr>\n",
       "      <th>0</th>\n",
       "      <td>@adityadas1896</td>\n",
       "      <td>2024-11-29T05:44:54Z</td>\n",
       "      <td>2024-11-29T05:44:54Z</td>\n",
       "      <td>1</td>\n",
       "      <td>Mein wait kr rha tha</td>\n",
       "    </tr>\n",
       "    <tr>\n",
       "      <th>1</th>\n",
       "      <td>@cricketgyaani7</td>\n",
       "      <td>2024-11-21T16:37:38Z</td>\n",
       "      <td>2024-11-21T16:37:38Z</td>\n",
       "      <td>1</td>\n",
       "      <td>Areeyyy sirr</td>\n",
       "    </tr>\n",
       "    <tr>\n",
       "      <th>2</th>\n",
       "      <td>@Rizzlord_404</td>\n",
       "      <td>2024-11-21T15:29:45Z</td>\n",
       "      <td>2024-11-21T15:29:45Z</td>\n",
       "      <td>1</td>\n",
       "      <td>Papa Susu universe ka to maa hi chud gya 😢</td>\n",
       "    </tr>\n",
       "    <tr>\n",
       "      <th>3</th>\n",
       "      <td>@NotAyush_24</td>\n",
       "      <td>2024-11-21T10:31:50Z</td>\n",
       "      <td>2024-11-21T10:31:50Z</td>\n",
       "      <td>2</td>\n",
       "      <td>That outro tho 😂😂</td>\n",
       "    </tr>\n",
       "    <tr>\n",
       "      <th>4</th>\n",
       "      <td>@terania1921</td>\n",
       "      <td>2024-11-20T15:08:26Z</td>\n",
       "      <td>2024-11-20T15:08:26Z</td>\n",
       "      <td>1</td>\n",
       "      <td>Big fan sir ❤❤🙏</td>\n",
       "    </tr>\n",
       "    <tr>\n",
       "      <th>5</th>\n",
       "      <td>@sutbay2748</td>\n",
       "      <td>2024-11-20T14:37:21Z</td>\n",
       "      <td>2024-11-20T14:37:21Z</td>\n",
       "      <td>4</td>\n",
       "      <td>&lt;a href=\"http://www.youtube.com/results?search...</td>\n",
       "    </tr>\n",
       "  </tbody>\n",
       "</table>\n",
       "</div>"
      ],
      "text/plain": [
       "            author          published_at            updated_at  like_count  \\\n",
       "0   @adityadas1896  2024-11-29T05:44:54Z  2024-11-29T05:44:54Z           1   \n",
       "1  @cricketgyaani7  2024-11-21T16:37:38Z  2024-11-21T16:37:38Z           1   \n",
       "2    @Rizzlord_404  2024-11-21T15:29:45Z  2024-11-21T15:29:45Z           1   \n",
       "3     @NotAyush_24  2024-11-21T10:31:50Z  2024-11-21T10:31:50Z           2   \n",
       "4     @terania1921  2024-11-20T15:08:26Z  2024-11-20T15:08:26Z           1   \n",
       "5      @sutbay2748  2024-11-20T14:37:21Z  2024-11-20T14:37:21Z           4   \n",
       "\n",
       "                                                text  \n",
       "0                               Mein wait kr rha tha  \n",
       "1                                       Areeyyy sirr  \n",
       "2         Papa Susu universe ka to maa hi chud gya 😢  \n",
       "3                                  That outro tho 😂😂  \n",
       "4                                    Big fan sir ❤❤🙏  \n",
       "5  <a href=\"http://www.youtube.com/results?search...  "
      ]
     },
     "execution_count": 20,
     "metadata": {},
     "output_type": "execute_result"
    }
   ],
   "source": [
    "import googleapiclient.discovery\n",
    "import pandas as pd\n",
    "\n",
    "api_service_name = \"youtube\"\n",
    "api_version = \"v3\"\n",
<<<<<<< HEAD
    "DEVELOPER_KEY = 'api'\n",
=======
    "DEVELOPER_KEY = \"api\"\n",
    "\n",
>>>>>>> 9310570df99ceba5860e11d839ea36540ef9d172
    "youtube = googleapiclient.discovery.build(\n",
    "    api_service_name, api_version, developerKey=DEVELOPER_KEY)\n",
    "\n",
    "request = youtube.commentThreads().list(\n",
    "    part=\"snippet\",\n",
    "    videoId=\"iydghX0bkE0\",\n",
    "    maxResults=100\n",
    ")\n",
    "response = request.execute()\n",
    "\n",
    "comments = []\n",
    "\n",
    "for item in response['items']:\n",
    "    comment = item['snippet']['topLevelComment']['snippet']\n",
    "    comments.append([\n",
    "        comment['authorDisplayName'],\n",
    "        comment['publishedAt'],\n",
    "        comment['updatedAt'],\n",
    "        comment['likeCount'],\n",
    "        comment['textDisplay']\n",
    "    ])\n",
    "\n",
    "df = pd.DataFrame(comments, columns=['author', 'published_at', 'updated_at', 'like_count', 'text'])\n",
    "\n",
    "df.head(10)"
   ]
  },
  {
   "cell_type": "code",
   "execution_count": 33,
   "metadata": {},
   "outputs": [
    {
     "name": "stdout",
     "output_type": "stream",
     "text": [
      "\u001b[1m1/1\u001b[0m \u001b[32m━━━━━━━━━━━━━━━━━━━━\u001b[0m\u001b[37m\u001b[0m \u001b[1m0s\u001b[0m 162ms/step\n"
     ]
    }
   ],
   "source": [
    "pred = analysis(df['text'])\n",
    "pred = pd.DataFrame(pred, columns=['sentiment'])\n",
    "pred =pd.concat([df['text'],pred], axis=1)"
   ]
  },
  {
   "cell_type": "code",
   "execution_count": 34,
   "metadata": {},
   "outputs": [],
   "source": [
    "df_pos = pred.loc[pred['sentiment'] ==2]\n",
    "df_neg = pred.loc[pred['sentiment'] ==0]\n",
    "df_neu = pred.loc[pred['sentiment'] ==1]"
   ]
  },
  {
   "cell_type": "code",
   "execution_count": 35,
   "metadata": {},
   "outputs": [],
   "source": [
    "p,n,nu = df_pos.shape[0], df_neg.shape[0],df_neu.shape[0]"
   ]
  },
  {
   "cell_type": "code",
   "execution_count": 36,
   "metadata": {},
   "outputs": [
    {
     "data": {
      "text/plain": [
       "(0, 0, 6)"
      ]
     },
     "execution_count": 36,
     "metadata": {},
     "output_type": "execute_result"
    }
   ],
   "source": [
    "p,n,nu"
   ]
  }
 ],
 "metadata": {
  "kernelspec": {
   "display_name": "Python 3",
   "language": "python",
   "name": "python3"
  },
  "language_info": {
   "codemirror_mode": {
    "name": "ipython",
    "version": 3
   },
   "file_extension": ".py",
   "mimetype": "text/x-python",
   "name": "python",
   "nbconvert_exporter": "python",
   "pygments_lexer": "ipython3",
   "version": "3.11.1"
  }
 },
 "nbformat": 4,
 "nbformat_minor": 2
}
